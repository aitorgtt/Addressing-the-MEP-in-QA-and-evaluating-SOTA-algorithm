{
 "cells": [
  {
   "cell_type": "code",
   "execution_count": null,
   "metadata": {
    "vscode": {
     "languageId": "plaintext"
    }
   },
   "outputs": [],
   "source": [
    "import numpy as np\n",
    "import pickle\n",
    "import matplotlib.pyplot as plt\n",
    "import hybrid\n",
    "import matplotlib.pyplot as plt\n",
    "from sklearn.decomposition import PCA\n",
    "from sklearn.preprocessing import StandardScaler\n",
    "from scipy.optimize import curve_fit\n",
    "from joblib import Parallel\n",
    "from dwave.cloud.api import Problems\n",
    "\n",
    "from dwave.embedding.chain_breaks import majority_vote, broken_chains\n",
    "import dimod\n",
    "\n",
    "def unembed_sampleset_mine(sampleset, embedding, bqm, chain_break_fraction=False):\n",
    "    variables = list(bqm.variables)  # need this ordered\n",
    "    try:\n",
    "        chains = [embedding[v] for v in variables]\n",
    "    except KeyError:\n",
    "        raise ValueError(\"given bqm does not match the embedding\")\n",
    "\n",
    "    record = sampleset.record\n",
    "\n",
    "    unembedded, idxs = majority_vote(sampleset, chains)\n",
    "\n",
    "    reserved = {'sample', 'energy'}\n",
    "    vectors = {name: record[name][idxs]\n",
    "            for name in record.dtype.names if name not in reserved}\n",
    "    \n",
    "    if chain_break_fraction:\n",
    "        broken = broken_chains(sampleset, chains)\n",
    "        if broken.size:\n",
    "            vectors['chain_break_fraction'] = broken.mean(axis=1)[idxs]\n",
    "        else:\n",
    "            vectors['chain_break_fraction'] = 0\n",
    "\n",
    "    info = sampleset.info.copy()\n",
    "\n",
    "    return dimod.SampleSet.from_samples_bqm((unembedded, variables),\n",
    "                                            bqm,\n",
    "                                            info=info,\n",
    "                                            **vectors)\n",
    "\n"
   ]
  },
  {
   "cell_type": "markdown",
   "metadata": {},
   "source": [
    "### RQ1.1: Embedding Impact - General Case"
   ]
  },
  {
   "cell_type": "code",
   "execution_count": null,
   "metadata": {
    "vscode": {
     "languageId": "plaintext"
    }
   },
   "outputs": [],
   "source": [
    "with open(\"pickles/RQ1.1_saved_data.pkl\" , \"rb\") as f:\n",
    "    [acl, num_qubits, energies, unembedded_energies, reference_energies, relative_errors, unembedded_relative_errors] = pickle.load(f)\n",
    "\n",
    "median_relative_errors = np.median(relative_errors, axis = -1)\n",
    "median_unembedded_relative_errors = np.median(unembedded_relative_errors, axis = -1)\n",
    "\n",
    "acl_ = acl.flatten()\n",
    "acl_ = acl_[~np.isnan(acl_)]\n",
    "num_qubits_ = num_qubits.flatten()\n",
    "num_qubits_ = num_qubits_[~np.isnan(num_qubits_)]\n",
    "median_relative_errors_= median_relative_errors.flatten()\n",
    "median_relative_errors_ = median_relative_errors_[~np.isnan(median_relative_errors_)]\n",
    "median_unembedded_relative_errors_= median_unembedded_relative_errors.flatten()\n",
    "median_unembedded_relative_errors_ = median_unembedded_relative_errors_[~np.isnan(median_unembedded_relative_errors_)]\n",
    "\n",
    "data = np.array([median_relative_errors_, acl_])\n",
    "data = data[:, np.argsort(data[1])]"
   ]
  },
  {
   "cell_type": "code",
   "execution_count": null,
   "metadata": {
    "vscode": {
     "languageId": "plaintext"
    }
   },
   "outputs": [],
   "source": [
    "plt.figure()\n",
    "plt.scatter(acl_, median_unembedded_relative_errors_, label=r'Postprocessed Median $e_{rel}$ per ACL', color='silver')\n",
    "\n",
    "def exponential_model(n_qubits, a, b, c):\n",
    "    return a * np.exp(b * n_qubits) + c\n",
    "\n",
    "acl_ordered_, median_relative_errors_ordered_ = (np.array(t) for t in zip(*sorted(zip(acl_, median_relative_errors_))))\n",
    "\n",
    "# Fit the exponential model to the data\n",
    "params, covariance = curve_fit(exponential_model, acl_ordered_, median_relative_errors_ordered_)\n",
    "\n",
    "# Extract the coefficients\n",
    "a, b, c = params\n",
    "\n",
    "# Print the coefficients\n",
    "print(f\"Coefficients: a = {a}, b = {b}, c = {c}\")\n",
    "\n",
    "# Predict values using the fitted model\n",
    "fitted_values = exponential_model(acl_ordered_, a, b, c)\n",
    "\n",
    "# Plot the original data and the fitted model\n",
    "\n",
    "plt.scatter(acl_ordered_, median_relative_errors_ordered_, label=r'Median $e_{rel}$ per ACL')\n",
    "plt.plot(acl_ordered_, fitted_values, color='red', label='Exponential Regression Model')\n",
    "plt.xlabel('ACL (qubits)', fontsize=11)\n",
    "plt.ylabel(r'Median Relative Error', fontsize=11)\n",
    "\n",
    "# # Calculate the R-squared value\n",
    "ss_res = np.sum((median_relative_errors_ordered_ - fitted_values) ** 2)\n",
    "ss_tot = np.sum((median_relative_errors_ordered_ - np.mean(median_relative_errors_ordered_)) ** 2)\n",
    "r_squared = 1 - (ss_res / ss_tot)\n",
    "\n",
    "# Print the R-squared value\n",
    "print(f\"R-squared: {r_squared}\")\n",
    "\n",
    "\n",
    "# Change the order of the legend items\n",
    "handles, labels = plt.gca().get_legend_handles_labels()\n",
    "order = [1, 2, 0]\n",
    "plt.legend([handles[idx] for idx in order], [labels[idx] for idx in order], fontsize=11)\n",
    "\n",
    "# plt.legend(loc='upper right', bbox_to_anchor=(1.97, 1.02))\n",
    "\n",
    "# plt.savefig('exponential.pdf', format='pdf')\n",
    "plt.show()"
   ]
  },
  {
   "cell_type": "code",
   "execution_count": null,
   "metadata": {
    "vscode": {
     "languageId": "plaintext"
    }
   },
   "outputs": [],
   "source": [
    "with open(\"pickles/RQ1.1_saved_data.pkl\" , \"rb\") as f:\n",
    "    [acl, num_qubits, energies, unembedded_energies, reference_energies, relative_errors, unembedded_relative_errors] = pickle.load(f)\n",
    "    container = pickle.load(f)\n",
    "\n",
    "median_relative_errors = np.median(relative_errors, axis = -1)\n",
    "median_unembedded_relative_errors = np.median(unembedded_relative_errors, axis = -1)\n",
    "\n",
    "median_broken_chain_fraction = np.zeros(np.shape(median_relative_errors))\n",
    "for den in range(20):\n",
    "    for size in range(16):\n",
    "        for problem_idx in range(5):\n",
    "            bqm = container[80*den+5*size+problem_idx][0]\n",
    "            for embedding_idx in range(10):\n",
    "                embedding, sampleset, _, _, _, _, _ = container[80*den+5*size+problem_idx][1][embedding_idx]\n",
    "                if embedding:\n",
    "                    broken_chain_fraction_list = []\n",
    "                    for i in unembed_sampleset_mine(sampleset, embedding, bqm, chain_break_fraction=True).record:\n",
    "                        broken_chain_fraction_list.append(i[-1])\n",
    "                    median_broken_chain_fraction[den, size, problem_idx, embedding_idx] = np.median(broken_chain_fraction_list)\n",
    "                else:\n",
    "                    median_broken_chain_fraction[den, size, problem_idx, embedding_idx] = np.nan"
   ]
  },
  {
   "cell_type": "code",
   "execution_count": null,
   "metadata": {
    "vscode": {
     "languageId": "plaintext"
    }
   },
   "outputs": [],
   "source": [
    "plt.scatter(acl, median_relative_errors, label='Embedded Ising Model solutions')\n",
    "plt.scatter(acl, median_unembedded_relative_errors, label='Postprocessed solutions')\n",
    "plt.xlabel('ACL')\n",
    "plt.ylabel('Median Relative Error')\n",
    "# plt.title(f'Exponential Model Fit: {round(a,3)}e^({round(b,3)}*ACL){round(c,3)}')\n",
    "plt.legend()\n",
    "plt.show()\n",
    "\n",
    "plt.scatter(acl, median_broken_chain_fraction)\n",
    "plt.xlabel('ACL')\n",
    "plt.ylabel('Median Broken Chain Fraction')\n",
    "plt.show()"
   ]
  },
  {
   "cell_type": "markdown",
   "metadata": {},
   "source": [
    "### RQ1.2 Embedding Impact - Stressed"
   ]
  },
  {
   "cell_type": "code",
   "execution_count": null,
   "metadata": {
    "vscode": {
     "languageId": "plaintext"
    }
   },
   "outputs": [],
   "source": [
    "import numpy as np\n",
    "import pickle\n",
    "import matplotlib.pyplot as plt\n",
    "import hybrid\n",
    "import matplotlib.pyplot as plt\n",
    "from sklearn.decomposition import PCA\n",
    "from sklearn.preprocessing import StandardScaler\n",
    "import statsmodels.api as sm\n",
    "import pandas as pd\n",
    "import seaborn as sns\n",
    "import pandas as pd\n",
    "from dwave.cloud.api import Problems\n",
    "import json\n",
    "import time\n",
    "from scipy.optimize import curve_fit\n",
    "import scipy.stats as stats\n",
    "from matplotlib.colors import ListedColormap\n",
    "import matplotlib.cm as cm\n",
    "import matplotlib.colors as colors\n",
    "\n",
    "from dwave.embedding.chain_breaks import majority_vote, broken_chains\n",
    "import dimod\n",
    "\n",
    "def unembed_sampleset_mine(sampleset, embedding, bqm, chain_break_fraction=False):\n",
    "    variables = list(bqm.variables)  # need this ordered\n",
    "    try:\n",
    "        chains = [embedding[v] for v in variables]\n",
    "    except KeyError:\n",
    "        raise ValueError(\"given bqm does not match the embedding\")\n",
    "\n",
    "    record = sampleset.record\n",
    "\n",
    "    unembedded, idxs = majority_vote(sampleset, chains)\n",
    "\n",
    "    reserved = {'sample', 'energy'}\n",
    "    vectors = {name: record[name][idxs]\n",
    "            for name in record.dtype.names if name not in reserved}\n",
    "    \n",
    "    if chain_break_fraction:\n",
    "        broken = broken_chains(sampleset, chains)\n",
    "        if broken.size:\n",
    "            vectors['chain_break_fraction'] = broken.mean(axis=1)[idxs]\n",
    "        else:\n",
    "            vectors['chain_break_fraction'] = 0\n",
    "\n",
    "    info = sampleset.info.copy()\n",
    "\n",
    "    return dimod.SampleSet.from_samples_bqm((unembedded, variables),\n",
    "                                            bqm,\n",
    "                                            info=info,\n",
    "                                            **vectors)\n"
   ]
  },
  {
   "cell_type": "code",
   "execution_count": null,
   "metadata": {
    "vscode": {
     "languageId": "plaintext"
    }
   },
   "outputs": [],
   "source": [
    "with open(\"pickles/RQ1.2_saved_data.pkl.pkl\" , \"rb\") as f:\n",
    "    [acl, num_qubits, energies, unembedded_energies, reference_energies, relative_errors, unembedded_relative_errors] = pickle.load(f)\n",
    "\n",
    "median_relative_errors = np.median(relative_errors, axis = -1)\n",
    "median_unembedded_relative_errors = np.median(unembedded_relative_errors, axis = -1)\n",
    "\n",
    "\n",
    "data = np.array([median_relative_errors.flatten(), acl.flatten(), [i for i in range(5) for j in range(100)]])\n",
    "data = data[:, np.argsort(data[1])]\n"
   ]
  },
  {
   "cell_type": "code",
   "execution_count": null,
   "metadata": {
    "vscode": {
     "languageId": "plaintext"
    }
   },
   "outputs": [],
   "source": [
    "plt.scatter(acl, median_relative_errors, label='Embedded Ising Model solutions')\n",
    "plt.scatter(acl, median_unembedded_relative_errors, label='Postprocessed solutions')\n",
    "plt.xlabel('ACL')\n",
    "plt.ylabel('Median Relative Error')\n",
    "# plt.title(f'Exponential Model Fit: {round(a,3)}e^({round(b,3)}*ACL){round(c,3)}')\n",
    "plt.legend()\n",
    "\n",
    "plt.show()"
   ]
  },
  {
   "cell_type": "code",
   "execution_count": null,
   "metadata": {
    "vscode": {
     "languageId": "plaintext"
    }
   },
   "outputs": [],
   "source": [
    "def exponential_model(n_qubits, a, b, c):\n",
    "    return a * np.exp(b * n_qubits) + c\n",
    "\n",
    "# Fit the exponential model to the data\n",
    "params, covariance = curve_fit(exponential_model, data[1], data[0])\n",
    "\n",
    "# Extract the coefficients\n",
    "a, b, c = params\n",
    "\n",
    "# Print the coefficients\n",
    "print(f\"Coefficients: a = {a}, b = {b}, c = {c}\")\n",
    "\n",
    "# Predict values using the fitted model\n",
    "fitted_values = exponential_model(data[1], a, b, c)\n",
    "\n",
    "# Plot the original data and the fitted model\n",
    "plt.figure()\n",
    "plt.scatter(data[1], data[0], label='Median relative error per embedding ACL')\n",
    "plt.plot(data[1], fitted_values, color='red', label='Fitted Exponential Regression Model')\n",
    "plt.xlabel('ACL')\n",
    "plt.ylabel('Median Relative Error')\n",
    "# plt.title(f'Exponential Model Fit: {round(a,3)}e^({round(b,3)}*ACL){round(c,3)}')\n",
    "plt.legend()\n",
    "plt.show()\n",
    "\n",
    "\n",
    "# Calculate the R-squared value\n",
    "ss_res = np.sum((data[0] - fitted_values) ** 2)\n",
    "ss_tot = np.sum((data[0] - np.mean(data[0])) ** 2)\n",
    "r_squared = 1 - (ss_res / ss_tot)\n",
    "\n",
    "# Print the R-squared value\n",
    "print(f\"R-squared: {r_squared}\")\n"
   ]
  },
  {
   "cell_type": "code",
   "execution_count": null,
   "metadata": {
    "vscode": {
     "languageId": "plaintext"
    }
   },
   "outputs": [],
   "source": [
    "def exponential_model(n_qubits, a, b, c):\n",
    "    return a * np.exp(b * n_qubits) + c\n",
    "\n",
    "\n",
    "fig, axes = plt.subplots(2, 3, figsize=(12, 8), sharex=True, sharey=True)\n",
    "axes = axes.flatten()\n",
    "\n",
    "# Define the colormap and states\n",
    "cmap = ListedColormap(['tab:blue', 'tab:orange', 'tab:green', 'tab:cyan', 'tab:purple'])\n",
    "states = np.unique(data[2])      # Should give 5 unique values\n",
    "colors_list = [cmap(i) for i in range(len(states))]\n",
    "\n",
    "# First subplot with color-coded scatter\n",
    "for state, color in zip(states, colors_list):\n",
    "    mask = data[2] == state\n",
    "    axes[0].scatter(data[1][mask], data[0][mask], color=color, label=fr'Problem {round(state)+1}')\n",
    "\n",
    "params, covariance = curve_fit(exponential_model, data[1], data[0])\n",
    "a, b, c = params\n",
    "fitted_values = exponential_model(data[1], a, b, c)\n",
    "\n",
    "# Calculate the R-squared value\n",
    "ss_res = np.sum((data[0] - fitted_values) ** 2)\n",
    "ss_tot = np.sum((data[0] - np.mean(data[0])) ** 2)\n",
    "r_squared = 1 - (ss_res / ss_tot)\n",
    "print(f\"R-squared: {r_squared}\")\n",
    "\n",
    "axes[0].plot(data[1], fitted_values, color='red', label='Regression Model')\n",
    "\n",
    "axes[0].scatter(acl, median_unembedded_relative_errors, label='Postprocessed', color = 'silver')\n",
    "\n",
    "axes[0].set_title('a) All together', fontsize = 14)\n",
    "# axes[0].legend(loc='upper right', bbox_to_anchor=(4.3, 1.01))\n",
    "\n",
    "tit = [\"b)\", \"c)\", \"d)\", \"e)\", \"f)\"]\n",
    "\n",
    "# Other subplots (example placeholder loops)\n",
    "for i in range(1, 6):\n",
    "\n",
    "    params, covariance = curve_fit(exponential_model, acl[i-1], median_relative_errors[i-1])\n",
    "    a, b, c = params\n",
    "    fitted_values = exponential_model(acl[i-1], a, b, c)\n",
    "\n",
    "    axes[i].scatter(acl[i-1], median_relative_errors[i-1], color=['tab:blue', 'tab:orange', 'tab:green', 'tab:cyan', 'tab:purple'][i-1])\n",
    "    axes[i].plot(acl[i-1][np.argsort(acl[i-1])], fitted_values[np.argsort(acl[i-1])], color='red')\n",
    "\n",
    "    \n",
    "    axes[i].scatter(acl[i-1], median_unembedded_relative_errors[i-1], color = 'silver')\n",
    "\n",
    "    axes[i].set_title(f'{tit[i-1]} Problem {i}', fontsize = 14)\n",
    "\n",
    "    # Calculate the R-squared value\n",
    "    ss_res = np.sum((median_relative_errors[i-1] - fitted_values) ** 2)\n",
    "    ss_tot = np.sum((median_relative_errors[i-1] - np.mean(median_relative_errors[i-1])) ** 2)\n",
    "    r_squared = 1 - (ss_res / ss_tot)\n",
    "    print(f\"R-squared: {r_squared}\")\n",
    "\n",
    "# Shared labels\n",
    "for ax in axes[3:]:\n",
    "    ax.set_xlabel('ACL (qubits)', fontsize = 13)\n",
    "\n",
    "axes[0].set_ylabel('Median Relative Error', fontsize = 13)\n",
    "axes[3].set_ylabel('Median Relative Error', fontsize = 13)\n",
    "\n",
    "\n",
    "fig.legend(loc = 1, bbox_to_anchor  = (1.2, 0.965), fontsize = 13)\n",
    "\n",
    "plt.tight_layout()\n",
    "plt.savefig(\"figure_grid.pdf\", bbox_inches = 'tight')\n",
    "plt.show()\n"
   ]
  },
  {
   "cell_type": "code",
   "execution_count": null,
   "metadata": {
    "vscode": {
     "languageId": "plaintext"
    }
   },
   "outputs": [],
   "source": [
    "with open(\"pickles/RQ1.2_saved_data.pkl\" , \"rb\") as f:\n",
    "    [acl, num_qubits, energies, unembedded_energies, reference_energies, relative_errors, unembedded_relative_errors] = pickle.load(f)\n",
    "    container = pickle.load(f)\n",
    "\n",
    "median_relative_errors = np.median(relative_errors, axis = -1)\n",
    "median_unembedded_relative_errors = np.median(unembedded_relative_errors, axis = -1)\n",
    "\n",
    "median_broken_chain_fraction = np.zeros((5, 100))\n",
    "for problem_idx in range(5):\n",
    "    bqm = container[problem_idx][0]\n",
    "    for embedding_idx in range(100):\n",
    "        embedding, sampleset, _, _, _, _, _ = container[problem_idx][1][embedding_idx]\n",
    "        broken_chain_fraction_list = []\n",
    "        for i in unembed_sampleset_mine(sampleset, embedding, bqm, chain_break_fraction=True).record:\n",
    "            broken_chain_fraction_list.append(i[-1])\n",
    "        median_broken_chain_fraction[problem_idx, embedding_idx] = np.median(broken_chain_fraction_list)\n",
    "        "
   ]
  },
  {
   "cell_type": "code",
   "execution_count": null,
   "metadata": {
    "vscode": {
     "languageId": "plaintext"
    }
   },
   "outputs": [],
   "source": [
    "plt.scatter(acl, median_relative_errors, label='Embedded Ising Model solutions')\n",
    "plt.scatter(acl, median_unembedded_relative_errors, label='Postprocessed solutions')\n",
    "plt.xlabel('ACL')\n",
    "plt.ylabel('Min Relative Error')\n",
    "# plt.title(f'Exponential Model Fit: {round(a,3)}e^({round(b,3)}*ACL){round(c,3)}')\n",
    "plt.legend()\n",
    "plt.show()\n",
    "\n",
    "plt.scatter(acl, median_broken_chain_fraction)\n",
    "plt.xlabel('ACL')\n",
    "plt.ylabel('Min Broken Chain Fraction')\n",
    "plt.show()"
   ]
  },
  {
   "cell_type": "code",
   "execution_count": null,
   "metadata": {
    "vscode": {
     "languageId": "plaintext"
    }
   },
   "outputs": [],
   "source": [
    "with open(\"pickles/RQ1.2_saved_data.pkl\" , \"rb\") as f:\n",
    "    [acl, num_qubits, energies, unembedded_energies, reference_energies, relative_errors, unembedded_relative_errors] = pickle.load(f)\n",
    "    container = pickle.load(f)\n",
    "\n",
    "median_relative_errors = np.median(relative_errors, axis = -1)\n",
    "median_unembedded_relative_errors = np.median(unembedded_relative_errors, axis = -1)\n",
    "\n",
    "min_relative_errors = np.min(relative_errors, axis = -1)\n",
    "min_unembedded_relative_errors = np.min(unembedded_relative_errors, axis = -1)\n",
    "\n",
    "median_broken_chain_fraction = np.zeros((5, 100))\n",
    "min_broken_chain_fraction = np.zeros((5, 100))\n",
    "for problem_idx in range(5):\n",
    "    bqm = container[problem_idx][0]\n",
    "    for embedding_idx in range(100):\n",
    "        embedding, sampleset, _, _, _, _, _ = container[problem_idx][1][embedding_idx]\n",
    "        broken_chain_fraction_list = []\n",
    "        for i in unembed_sampleset_mine(sampleset, embedding, bqm, chain_break_fraction=True).record:\n",
    "            broken_chain_fraction_list.append(i[-1])\n",
    "        median_broken_chain_fraction[problem_idx, embedding_idx] = np.median(broken_chain_fraction_list)\n",
    "        min_broken_chain_fraction[problem_idx, embedding_idx] = np.min(broken_chain_fraction_list)\n",
    "        "
   ]
  },
  {
   "cell_type": "code",
   "execution_count": null,
   "metadata": {
    "vscode": {
     "languageId": "plaintext"
    }
   },
   "outputs": [],
   "source": [
    "plt.scatter(acl, min_relative_errors, label='Embedded Ising Model solutions')\n",
    "plt.scatter(acl, min_unembedded_relative_errors, label='Postprocessed solutions')\n",
    "plt.xlabel('ACL')\n",
    "plt.ylabel('Median Relative Error')\n",
    "# plt.title(f'Exponential Model Fit: {round(a,3)}e^({round(b,3)}*ACL){round(c,3)}')\n",
    "plt.legend()\n",
    "plt.show()\n",
    "\n",
    "plt.scatter(acl, min_broken_chain_fraction)\n",
    "plt.xlabel('ACL')\n",
    "plt.ylabel('Median Broken Chain Fraction')\n",
    "plt.show()"
   ]
  }
 ],
 "metadata": {
  "language_info": {
   "name": "python"
  }
 },
 "nbformat": 4,
 "nbformat_minor": 2
}
